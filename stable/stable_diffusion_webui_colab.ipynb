{
  "cells": [
    {
      "cell_type": "code",
      "source": [
        "# Désactiver les erreurs liées à libtcmalloc\n",
        "import os\n",
        "os.system(\"pip install pytorch-lightning\")\n",
        "\n",
        "# Monter le dossier\n",
        "%cd /content\n",
        "\n",
        "# Installer les bibliothèques nécessaires\n",
        "!apt -y update -qq\n",
        "!apt -y install -qq aria2 libcairo2-dev pkg-config python3-dev\n",
        "!pip install pytorch-lightning\n",
        "!pip install -q torch==2.0.1+cu118 torchvision==0.15.2+cu118 torchaudio==2.0.2+cu118 torchtext==0.15.2 torchdata==0.6.1 --extra-index-url https://download.pytorch.org/whl/cu118\n",
        "!pip install -q xformers==0.0.20 triton==2.0.0 gradio_client==0.2.7\n",
        "\n",
        "# Télécharger Stable Diffusion WebUI\n",
        "!git clone -b v2.4 https://github.com/camenduru/stable-diffusion-webui /content/stable-diffusion-webui\n",
        "\n",
        "# Télécharger les modèles utiles\n",
        "!aria2c --console-log-level=error -c -x 16 -s 16 -k 1M https://civitai.com/api/download/models/11745 -d /content/stable-diffusion-webui/models/Stable-diffusion -o chilloutmix_NiPrunedFp32Fix.safetensors\n",
        "\n",
        "# Télécharger ESRGAN 4x Upscaler\n",
        "!aria2c --console-log-level=error -c -x 16 -s 16 -k 1M https://huggingface.co/embed/upscale/resolve/main/4x-UltraSharp.pth -d /content/stable-diffusion-webui/models/ESRGAN -o 4x-UltraSharp.pth\n",
        "\n",
        "# Télécharger ControlNet Extension + modèles\n",
        "!git clone https://github.com/Mikubill/sd-webui-controlnet /content/stable-diffusion-webui/extensions/sd-webui-controlnet\n",
        "!aria2c --console-log-level=error -c -x 16 -s 16 -k 1M https://huggingface.co/lllyasviel/ControlNet-v1-1/resolve/main/control_v11p_sd15_canny.pth -d /content/stable-diffusion-webui/extensions/sd-webui-controlnet/models -o control_v11p_sd15_canny.pth\n",
        "\n",
        "# Démarrer WebUI\n",
        "%cd /content/stable-diffusion-webui\n",
        "!COMMANDLINE_ARGS=\"--share --xformers\" REQS_FILE=\"requirements.txt\" python launch.py\n",
        "\n"
      ],
      "metadata": {
        "id": "DAlI3nkjokIy"
      },
      "execution_count": null,
      "outputs": []
    },
    {
      "cell_type": "code",
      "source": [
        "pip install pytorch-lightning==1.9.0"
      ],
      "metadata": {
        "id": "HzB9I9ybslOi"
      },
      "execution_count": null,
      "outputs": []
    },
    {
      "cell_type": "code",
      "source": [
        "pip install pytorch-lightning==1.9.0"
      ],
      "metadata": {
        "id": "iJf5w_eqssXr"
      },
      "execution_count": null,
      "outputs": []
    },
    {
      "cell_type": "code",
      "source": [
        "pip install -r /content/stable-diffusion-webui/requirements.txt"
      ],
      "metadata": {
        "id": "mJEuHv1YtBFs"
      },
      "execution_count": null,
      "outputs": []
    },
    {
      "cell_type": "code",
      "source": [
        "%cd /content/stable-diffusion-webui\n",
        "!COMMANDLINE_ARGS=\"--share --xformers\" REQS_FILE=\"requirements.txt\" python launch.py"
      ],
      "metadata": {
        "id": "pGzTFi8Wu0Um"
      },
      "execution_count": null,
      "outputs": []
    },
    {
      "cell_type": "code",
      "source": [
        "pip show torchvision"
      ],
      "metadata": {
        "id": "Xl9aRdNivMsu"
      },
      "execution_count": null,
      "outputs": []
    },
    {
      "cell_type": "code",
      "source": [
        "pip uninstall torchvision"
      ],
      "metadata": {
        "id": "wxWfq5TAvVWX"
      },
      "execution_count": null,
      "outputs": []
    },
    {
      "cell_type": "code",
      "source": [
        "pip install torch==2.7.0+cu126 torchvision==0.18.0 --extra-index-url https://download.pytorch.org/whl/cu126"
      ],
      "metadata": {
        "id": "tHB6UR9lvf4i"
      },
      "execution_count": null,
      "outputs": []
    },
    {
      "cell_type": "code",
      "source": [
        "%cd /content/stable-diffusion-webui\n",
        "!COMMANDLINE_ARGS=\"--share --xformers\" REQS_FILE=\"requirements.txt\" python launch.py"
      ],
      "metadata": {
        "id": "Qi4slIQlvoiw"
      },
      "execution_count": null,
      "outputs": []
    },
    {
      "cell_type": "code",
      "source": [
        "pip install numpy==1.26.4 --force-reinstall"
      ],
      "metadata": {
        "id": "0zKdmqfOxPiO"
      },
      "execution_count": null,
      "outputs": []
    },
    {
      "cell_type": "code",
      "source": [
        "pip install insightface"
      ],
      "metadata": {
        "id": "hTbcuceqx-aC"
      },
      "execution_count": null,
      "outputs": []
    },
    {
      "cell_type": "code",
      "source": [
        "!python launch.py --share --xformers"
      ],
      "metadata": {
        "id": "0r8H5cdJyZH0"
      },
      "execution_count": null,
      "outputs": []
    },
    {
      "cell_type": "code",
      "source": [
        "%cd /content/stable-diffusion-webui"
      ],
      "metadata": {
        "id": "0rFJ2uz60BrI"
      },
      "execution_count": null,
      "outputs": []
    },
    {
      "cell_type": "code",
      "source": [
        "!python launch.py --share --xformers"
      ],
      "metadata": {
        "id": "CkTuWdhm0MzK"
      },
      "execution_count": null,
      "outputs": []
    }
  ],
  "metadata": {
    "accelerator": "GPU",
    "colab": {
      "private_outputs": true,
      "provenance": []
    },
    "gpuClass": "standard",
    "kernelspec": {
      "display_name": "Python 3",
      "name": "python3"
    },
    "language_info": {
      "name": "python"
    }
  },
  "nbformat": 4,
  "nbformat_minor": 0
}